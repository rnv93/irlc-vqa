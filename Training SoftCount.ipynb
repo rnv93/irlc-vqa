{
 "cells": [
  {
   "cell_type": "code",
   "execution_count": 1,
   "metadata": {},
   "outputs": [],
   "source": [
    "%load_ext autoreload\n",
    "%autoreload 2"
   ]
  },
  {
   "cell_type": "code",
   "execution_count": 2,
   "metadata": {},
   "outputs": [],
   "source": [
    "import os\n",
    "os.environ[\"CUDA_VISIBLE_DEVICES\"] = \"1\"\n",
    "# os.environ[\"CUDA_LAUNCH_BLOCKING\"] = \"1\""
   ]
  },
  {
   "cell_type": "code",
   "execution_count": 3,
   "metadata": {},
   "outputs": [],
   "source": [
    "import torch\n",
    "from torch.autograd import Variable\n",
    "\n",
    "from dataset import Dictionary, HMQAFeatureDataset\n",
    "from model import SoftCount\n",
    "from config import *\n",
    "from datetime import datetime, timedelta\n",
    "\n",
    "import h5py\n",
    "import numpy as np\n",
    "import _pickle as pkl\n",
    "import json\n",
    "import torch.nn.functional as F"
   ]
  },
  {
   "cell_type": "code",
   "execution_count": 4,
   "metadata": {},
   "outputs": [
    {
     "name": "stdout",
     "output_type": "stream",
     "text": [
      "loading dictionary from data/dictionary.pkl\n"
     ]
    }
   ],
   "source": [
    "dictionary = Dictionary.load_from_file('data/dictionary.pkl')"
   ]
  },
  {
   "cell_type": "code",
   "execution_count": 6,
   "metadata": {},
   "outputs": [],
   "source": [
    "%%time\n",
    "print('loading features from train hdf5 file')\n",
    "train_h5_loc = './data/train36.hdf5'\n",
    "with h5py.File(train_h5_loc, 'r') as hf:\n",
    "    train_image_features = np.array(hf.get('image_features'))\n",
    "    train_spatials_features = np.array(hf.get('spatial_features'))\n",
    "# np.save( open(\"/tmp/vqa/train_image_features\", \"wb\"), train_image_features)\n",
    "# np.save( open(\"/tmp/vqa/train_spatials_features\", \"wb\"), train_spatials_features)"
   ]
  },
  {
   "cell_type": "code",
   "execution_count": 7,
   "metadata": {},
   "outputs": [
    {
     "name": "stdout",
     "output_type": "stream",
     "text": [
      "CPU times: user 80 ms, sys: 11.7 s, total: 11.8 s\n",
      "Wall time: 4min 25s\n"
     ]
    }
   ],
   "source": [
    "# %%time\n",
    "# train_image_features = np.load(open(\"/tmp/vqa/train_image_features\", \"rb\"))\n",
    "# train_spatials_features = np.load(open(\"/tmp/vqa/train_spatials_features\", \"rb\"))"
   ]
  },
  {
   "cell_type": "code",
   "execution_count": 8,
   "metadata": {},
   "outputs": [],
   "source": [
    "from dataset import HMQAFeatureDataset\n",
    "\n",
    "hmqa_train_dset = HMQAFeatureDataset(\n",
    "    img_id2hqma_idx = pkl.load(open(\"./data/train36_imgid2idx.pkl\", \"rb\")),\n",
    "    image_features = train_image_features, \n",
    "    spatial_features = train_spatials_features, \n",
    "    qid2count = json.load(open(\"./data/how_many_qa/qid2count.json\", \"rb\")), \n",
    "    qid2count2score = json.load(open(\"./data/how_many_qa/qid2count2score.json\", \"rb\")), \n",
    "    name=\"train\", \n",
    "    dictionary=dictionary\n",
    ")\n",
    "del HMQAFeatureDataset"
   ]
  },
  {
   "cell_type": "code",
   "execution_count": 9,
   "metadata": {},
   "outputs": [
    {
     "data": {
      "text/plain": [
       "83642"
      ]
     },
     "execution_count": 9,
     "metadata": {},
     "output_type": "execute_result"
    }
   ],
   "source": [
    "len(hmqa_train_dset)"
   ]
  },
  {
   "cell_type": "code",
   "execution_count": 10,
   "metadata": {},
   "outputs": [
    {
     "data": {
      "text/plain": [
       "45546"
      ]
     },
     "execution_count": 10,
     "metadata": {},
     "output_type": "execute_result"
    }
   ],
   "source": [
    "len(set([x[\"image_id\"] for x in hmqa_train_dset.entries]))"
   ]
  },
  {
   "cell_type": "code",
   "execution_count": 11,
   "metadata": {},
   "outputs": [],
   "source": [
    "%%time\n",
    "print('loading features from val hdf5 file')\n",
    "val_h5_loc = './data/val36.hdf5'\n",
    "with h5py.File(val_h5_loc, 'r') as hf:\n",
    "    val_image_features = np.array(hf.get('image_features'))\n",
    "    val_spatials_features = np.array(hf.get('spatial_features'))\n",
    "# np.save( open(\"/tmp/vqa/val_image_features\", \"wb\"), val_image_features)\n",
    "# np.save( open(\"/tmp/vqa/val_spatials_features\", \"wb\"), val_spatials_features)"
   ]
  },
  {
   "cell_type": "code",
   "execution_count": 12,
   "metadata": {},
   "outputs": [
    {
     "name": "stdout",
     "output_type": "stream",
     "text": [
      "CPU times: user 44 ms, sys: 22.7 s, total: 22.7 s\n",
      "Wall time: 1min 9s\n"
     ]
    }
   ],
   "source": [
    "# %%time\n",
    "# val_image_features = np.load(open(\"/tmp/vqa/val_image_features\", \"rb\"))\n",
    "# val_spatials_features = np.load(open(\"/tmp/vqa/val_spatials_features\", \"rb\"))"
   ]
  },
  {
   "cell_type": "code",
   "execution_count": 13,
   "metadata": {},
   "outputs": [],
   "source": [
    "# len(train_image_features)\n",
    "\n",
    "from dataset import HMQAFeatureDataset\n",
    "\n",
    "hmqa_dev_dset = HMQAFeatureDataset(\n",
    "    img_id2hqma_idx = pkl.load(open(\"./data/val36_imgid2idx.pkl\", \"rb\")),\n",
    "    image_features = val_image_features, \n",
    "    spatial_features = val_spatials_features, \n",
    "    qid2count = json.load(open(\"./data/how_many_qa/qid2count.json\", \"rb\")), \n",
    "    qid2count2score = json.load(open(\"./data/how_many_qa/qid2count2score.json\", \"rb\")), \n",
    "    name=\"dev\", \n",
    "    dictionary=dictionary\n",
    ")\n",
    "\n",
    "hmqa_test_dset = HMQAFeatureDataset(\n",
    "    img_id2hqma_idx = pkl.load(open(\"./data/val36_imgid2idx.pkl\", \"rb\")),\n",
    "    image_features = val_image_features, \n",
    "    spatial_features = val_spatials_features, \n",
    "    qid2count = json.load(open(\"./data/how_many_qa/qid2count.json\", \"rb\")), \n",
    "    qid2count2score = json.load(open(\"./data/how_many_qa/qid2count2score.json\", \"rb\")), \n",
    "    name=\"test\", \n",
    "    dictionary=dictionary\n",
    ")\n",
    "del HMQAFeatureDataset"
   ]
  },
  {
   "cell_type": "code",
   "execution_count": 14,
   "metadata": {},
   "outputs": [
    {
     "data": {
      "text/plain": [
       "(17714, 5000)"
      ]
     },
     "execution_count": 14,
     "metadata": {},
     "output_type": "execute_result"
    }
   ],
   "source": [
    "len(hmqa_dev_dset), len(hmqa_test_dset)"
   ]
  },
  {
   "cell_type": "code",
   "execution_count": 15,
   "metadata": {},
   "outputs": [],
   "source": [
    "from torch.utils.data import DataLoader\n",
    "\n",
    "hmqa_train_loader = DataLoader(hmqa_train_dset, 64, shuffle=True, num_workers=0)\n",
    "hmqa_dev_loader = DataLoader(hmqa_dev_dset, 64, shuffle=True, num_workers=0)\n",
    "hmqa_test_loader = DataLoader(hmqa_test_dset, 64, shuffle=True, num_workers=0)"
   ]
  },
  {
   "cell_type": "code",
   "execution_count": 55,
   "metadata": {},
   "outputs": [],
   "source": [
    "def evaluate(model, hmqa_loader):\n",
    "    \n",
    "    all_acc = []\n",
    "    all_se = []\n",
    "    for i, (v_emb, b, q, c, c2s) in enumerate(hmqa_loader):\n",
    "        v_emb = Variable(v_emb)\n",
    "        q = Variable(q)\n",
    "        c = Variable(c).float()\n",
    "        \n",
    "        if USE_CUDA:\n",
    "            v_emb = v_emb.cuda()\n",
    "            q = q.cuda()\n",
    "            c = c.cuda()\n",
    "\n",
    "        pred = model(v_emb, q)\n",
    "        \n",
    "        nearest_pred = (pred + 0.5).long().clamp(0, 20)\n",
    "        for one_c, one_c2s, one_pred in zip(c, c2s, nearest_pred):\n",
    "            one_c = one_c.cpu().data\n",
    "            one_pred = one_pred.cpu().data\n",
    "            \n",
    "            all_se.append((one_c - one_pred.float()) ** 2)\n",
    "            all_acc.append(one_c2s[one_pred])\n",
    "    \n",
    "    acc = torch.stack(all_acc).mean()\n",
    "    rmse = torch.stack(all_se).mean() ** 0.5\n",
    "    \n",
    "    return acc, rmse"
   ]
  },
  {
   "cell_type": "code",
   "execution_count": 67,
   "metadata": {},
   "outputs": [
    {
     "name": "stdout",
     "output_type": "stream",
     "text": [
      "initialising with glove embeddings\n",
      "done.\n"
     ]
    }
   ],
   "source": [
    "from model import SoftCount\n",
    "model = SoftCount(ques_dim=1024, score_dim=512, dropout=0.2)\n",
    "del SoftCount"
   ]
  },
  {
   "cell_type": "code",
   "execution_count": 68,
   "metadata": {},
   "outputs": [
    {
     "data": {
      "text/plain": [
       "SoftCount(\n",
       "  (ques_parser): QuestionParser(\n",
       "    (embd): Embedding(20159, 300, padding_idx=20158)\n",
       "    (rnn): GRU(300, 1024)\n",
       "    (drop): Dropout(p=0.2)\n",
       "  )\n",
       "  (f): ScoringFunction(\n",
       "    (v_drop): Dropout(p=0.2)\n",
       "    (q_drop): Dropout(p=0.2)\n",
       "    (v_proj): FCNet(\n",
       "      (main): Sequential(\n",
       "        (0): Linear(in_features=2048, out_features=512, bias=True)\n",
       "        (1): LeakyReLU(negative_slope=0.01)\n",
       "      )\n",
       "    )\n",
       "    (q_proj): FCNet(\n",
       "      (main): Sequential(\n",
       "        (0): Linear(in_features=1024, out_features=512, bias=True)\n",
       "        (1): LeakyReLU(negative_slope=0.01)\n",
       "      )\n",
       "    )\n",
       "    (s_drop): Dropout(p=0.2)\n",
       "  )\n",
       "  (W): Linear(in_features=512, out_features=1, bias=True)\n",
       ")"
      ]
     },
     "execution_count": 68,
     "metadata": {},
     "output_type": "execute_result"
    }
   ],
   "source": [
    "if USE_CUDA:\n",
    "    model.cuda()\n",
    "model"
   ]
  },
  {
   "cell_type": "code",
   "execution_count": 69,
   "metadata": {},
   "outputs": [
    {
     "data": {
      "text/plain": [
       "(tensor(1.00000e-03 *\n",
       "        3.0400), tensor(15.4749))"
      ]
     },
     "execution_count": 69,
     "metadata": {},
     "output_type": "execute_result"
    }
   ],
   "source": [
    "test_acc, test_rmse = evaluate(model, hmqa_test_loader)\n",
    "test_acc, test_rmse"
   ]
  },
  {
   "cell_type": "code",
   "execution_count": 70,
   "metadata": {},
   "outputs": [],
   "source": [
    "opt = torch.optim.Adam(model.parameters(), lr=3e-4)"
   ]
  },
  {
   "cell_type": "code",
   "execution_count": 71,
   "metadata": {},
   "outputs": [],
   "source": [
    "test_accs = []\n",
    "test_rmses = []\n",
    "\n",
    "dev_accs = []\n",
    "dev_rmses = []"
   ]
  },
  {
   "cell_type": "code",
   "execution_count": 72,
   "metadata": {
    "scrolled": true
   },
   "outputs": [
    {
     "name": "stdout",
     "output_type": "stream",
     "text": [
      "epoch = 0, i = 0, loss = 14.628400802612305\n"
     ]
    },
    {
     "name": "stderr",
     "output_type": "stream",
     "text": [
      "/home/sanyam/miniconda3/envs/py3t4/lib/python3.6/site-packages/ipykernel_launcher.py:21: UserWarning: torch.nn.utils.clip_grad_norm is now deprecated in favor of torch.nn.utils.clip_grad_norm_.\n"
     ]
    },
    {
     "name": "stdout",
     "output_type": "stream",
     "text": [
      "epoch = 0, i = 100, loss = 1.1435465812683105\n",
      "epoch = 0, i = 200, loss = 1.0605370998382568\n",
      "epoch = 0, i = 300, loss = 0.9011174440383911\n",
      "epoch = 0, i = 400, loss = 1.6539443731307983\n",
      "epoch = 0, i = 500, loss = 1.0184824466705322\n",
      "epoch = 0, i = 600, loss = 1.2407264709472656\n",
      "epoch = 0, i = 700, loss = 1.3670611381530762\n",
      "epoch = 0, i = 800, loss = 1.5058083534240723\n",
      "epoch = 0, i = 900, loss = 0.9516408443450928\n",
      "epoch = 0, i = 1000, loss = 0.7743334174156189\n",
      "epoch = 0, i = 1100, loss = 0.8096193671226501\n",
      "epoch = 0, i = 1200, loss = 1.2751123905181885\n",
      "epoch = 0, i = 1300, loss = 1.3818869590759277\n",
      "evaluating model on dev and test...\n",
      "dev_acc: 0.41113242506980896, dev_rmse: 2.9276204109191895\n",
      "test_acc: 0.4032999873161316, test_rmse: 2.686856985092163\n",
      "epoch = 1, i = 0, loss = 1.0717486143112183\n",
      "epoch = 1, i = 100, loss = 0.7833133935928345\n",
      "epoch = 1, i = 200, loss = 0.8350750207901001\n",
      "epoch = 1, i = 300, loss = 0.9446524381637573\n",
      "epoch = 1, i = 400, loss = 0.6972931623458862\n",
      "epoch = 1, i = 500, loss = 0.9530639052391052\n",
      "epoch = 1, i = 600, loss = 0.7725903987884521\n",
      "epoch = 1, i = 700, loss = 0.7252683639526367\n",
      "epoch = 1, i = 800, loss = 0.7162841558456421\n",
      "epoch = 1, i = 900, loss = 0.8944467306137085\n",
      "epoch = 1, i = 1000, loss = 0.5890282392501831\n",
      "epoch = 1, i = 1100, loss = 0.7408154606819153\n",
      "epoch = 1, i = 1200, loss = 0.7860620617866516\n",
      "epoch = 1, i = 1300, loss = 0.9527196884155273\n",
      "evaluating model on dev and test...\n",
      "dev_acc: 0.438692569732666, dev_rmse: 2.9244272708892822\n",
      "test_acc: 0.43577998876571655, test_rmse: 2.673985719680786\n",
      "epoch = 2, i = 0, loss = 0.5547971725463867\n",
      "epoch = 2, i = 100, loss = 0.8121598958969116\n",
      "epoch = 2, i = 200, loss = 1.082768201828003\n",
      "epoch = 2, i = 300, loss = 0.9104152917861938\n",
      "epoch = 2, i = 400, loss = 0.6321248412132263\n",
      "epoch = 2, i = 500, loss = 0.538659930229187\n",
      "epoch = 2, i = 600, loss = 0.5090115666389465\n",
      "epoch = 2, i = 700, loss = 0.9042094349861145\n",
      "epoch = 2, i = 800, loss = 0.6963248252868652\n",
      "epoch = 2, i = 900, loss = 0.7098879218101501\n",
      "epoch = 2, i = 1000, loss = 0.6962026357650757\n",
      "epoch = 2, i = 1100, loss = 0.8791968822479248\n",
      "epoch = 2, i = 1200, loss = 1.2076174020767212\n",
      "epoch = 2, i = 1300, loss = 0.6140683889389038\n",
      "evaluating model on dev and test...\n",
      "dev_acc: 0.4398724138736725, dev_rmse: 2.7906925678253174\n",
      "test_acc: 0.43893998861312866, test_rmse: 2.562772035598755\n",
      "epoch = 3, i = 0, loss = 1.0250123739242554\n",
      "epoch = 3, i = 100, loss = 0.5901322364807129\n",
      "epoch = 3, i = 200, loss = 0.6190376877784729\n",
      "epoch = 3, i = 300, loss = 0.747307300567627\n",
      "epoch = 3, i = 400, loss = 0.712824821472168\n",
      "epoch = 3, i = 500, loss = 0.5977566242218018\n",
      "epoch = 3, i = 600, loss = 0.9443403482437134\n",
      "epoch = 3, i = 700, loss = 0.537765383720398\n",
      "epoch = 3, i = 800, loss = 0.5435270071029663\n",
      "epoch = 3, i = 900, loss = 0.4770953953266144\n",
      "epoch = 3, i = 1000, loss = 0.8796859979629517\n",
      "epoch = 3, i = 1100, loss = 0.4031006097793579\n",
      "epoch = 3, i = 1200, loss = 0.8212300539016724\n",
      "epoch = 3, i = 1300, loss = 0.9886336326599121\n",
      "evaluating model on dev and test...\n",
      "dev_acc: 0.45250648260116577, dev_rmse: 2.733506202697754\n",
      "test_acc: 0.46630001068115234, test_rmse: 2.499239921569824\n",
      "epoch = 4, i = 0, loss = 0.8000674843788147\n",
      "epoch = 4, i = 100, loss = 0.6346131563186646\n",
      "epoch = 4, i = 200, loss = 0.8446760177612305\n",
      "epoch = 4, i = 300, loss = 1.2564671039581299\n",
      "epoch = 4, i = 400, loss = 1.1416804790496826\n",
      "epoch = 4, i = 500, loss = 0.8681952953338623\n",
      "epoch = 4, i = 600, loss = 0.596240758895874\n",
      "epoch = 4, i = 700, loss = 0.760988175868988\n",
      "epoch = 4, i = 800, loss = 0.8439410328865051\n",
      "epoch = 4, i = 900, loss = 0.6394860148429871\n",
      "epoch = 4, i = 1000, loss = 0.589470624923706\n",
      "epoch = 4, i = 1100, loss = 0.8739631175994873\n",
      "epoch = 4, i = 1200, loss = 0.43961581587791443\n",
      "epoch = 4, i = 1300, loss = 0.7726854085922241\n",
      "evaluating model on dev and test...\n",
      "dev_acc: 0.4580501317977905, dev_rmse: 2.6624057292938232\n",
      "test_acc: 0.46700000762939453, test_rmse: 2.432323932647705\n",
      "epoch = 5, i = 0, loss = 0.5627894401550293\n",
      "epoch = 5, i = 100, loss = 0.6562784910202026\n",
      "epoch = 5, i = 200, loss = 0.9611048698425293\n",
      "epoch = 5, i = 300, loss = 0.40457683801651\n",
      "epoch = 5, i = 400, loss = 0.5332111716270447\n",
      "epoch = 5, i = 500, loss = 0.7762923240661621\n",
      "epoch = 5, i = 600, loss = 0.6530032157897949\n",
      "epoch = 5, i = 700, loss = 0.8856066465377808\n",
      "epoch = 5, i = 800, loss = 0.5990040302276611\n",
      "epoch = 5, i = 900, loss = 0.8177927136421204\n",
      "epoch = 5, i = 1000, loss = 0.5464267730712891\n",
      "epoch = 5, i = 1100, loss = 0.577069878578186\n",
      "epoch = 5, i = 1200, loss = 0.6961219906806946\n",
      "epoch = 5, i = 1300, loss = 0.6551117897033691\n",
      "evaluating model on dev and test...\n",
      "dev_acc: 0.46489217877388, dev_rmse: 2.658437728881836\n",
      "test_acc: 0.4720799922943115, test_rmse: 2.4418435096740723\n",
      "epoch = 6, i = 0, loss = 0.9389997720718384\n",
      "epoch = 6, i = 100, loss = 0.6106300354003906\n",
      "epoch = 6, i = 200, loss = 0.5450400114059448\n",
      "epoch = 6, i = 300, loss = 0.9185134172439575\n",
      "epoch = 6, i = 400, loss = 0.4569363594055176\n",
      "epoch = 6, i = 500, loss = 0.9947926998138428\n",
      "epoch = 6, i = 600, loss = 0.8373309373855591\n",
      "epoch = 6, i = 700, loss = 0.5167772769927979\n",
      "epoch = 6, i = 800, loss = 0.4667099416255951\n",
      "epoch = 6, i = 900, loss = 0.7207782864570618\n",
      "epoch = 6, i = 1000, loss = 0.7581618428230286\n",
      "epoch = 6, i = 1100, loss = 0.5784988403320312\n",
      "epoch = 6, i = 1200, loss = 0.5652433633804321\n",
      "epoch = 6, i = 1300, loss = 0.49687403440475464\n",
      "evaluating model on dev and test...\n",
      "dev_acc: 0.47183018922805786, dev_rmse: 2.684798002243042\n",
      "test_acc: 0.48076000809669495, test_rmse: 2.4388933181762695\n",
      "epoch = 7, i = 0, loss = 0.6185715794563293\n",
      "epoch = 7, i = 100, loss = 0.4020466208457947\n",
      "epoch = 7, i = 200, loss = 0.5055506825447083\n",
      "epoch = 7, i = 300, loss = 0.9028556942939758\n",
      "epoch = 7, i = 400, loss = 0.6325691938400269\n",
      "epoch = 7, i = 500, loss = 0.5334853529930115\n",
      "epoch = 7, i = 600, loss = 0.7755710482597351\n",
      "epoch = 7, i = 700, loss = 0.6400124430656433\n",
      "epoch = 7, i = 800, loss = 0.8320757746696472\n",
      "epoch = 7, i = 900, loss = 0.6655226945877075\n",
      "epoch = 7, i = 1000, loss = 0.6563359498977661\n",
      "epoch = 7, i = 1100, loss = 0.7202091217041016\n",
      "epoch = 7, i = 1200, loss = 0.47889444231987\n",
      "epoch = 7, i = 1300, loss = 0.5980694890022278\n",
      "evaluating model on dev and test...\n",
      "dev_acc: 0.452574223279953, dev_rmse: 2.565908908843994\n",
      "test_acc: 0.45767998695373535, test_rmse: 2.3844916820526123\n",
      "epoch = 8, i = 0, loss = 0.4203689396381378\n",
      "epoch = 8, i = 100, loss = 0.6011685132980347\n",
      "epoch = 8, i = 200, loss = 0.4834330081939697\n",
      "epoch = 8, i = 300, loss = 0.5145273208618164\n",
      "epoch = 8, i = 400, loss = 0.5205063223838806\n",
      "epoch = 8, i = 500, loss = 0.46570590138435364\n",
      "epoch = 8, i = 600, loss = 0.5869192481040955\n",
      "epoch = 8, i = 700, loss = 0.9000004529953003\n",
      "epoch = 8, i = 800, loss = 1.029176950454712\n",
      "epoch = 8, i = 900, loss = 0.6565335988998413\n",
      "epoch = 8, i = 1000, loss = 0.48471736907958984\n",
      "epoch = 8, i = 1100, loss = 0.5047010183334351\n",
      "epoch = 8, i = 1200, loss = 0.9043950438499451\n",
      "epoch = 8, i = 1300, loss = 0.6348180174827576\n",
      "evaluating model on dev and test...\n",
      "dev_acc: 0.47310036420822144, dev_rmse: 2.5988094806671143\n",
      "test_acc: 0.4937399923801422, test_rmse: 2.366136074066162\n",
      "epoch = 9, i = 0, loss = 0.3131829798221588\n",
      "epoch = 9, i = 100, loss = 0.46003639698028564\n",
      "epoch = 9, i = 200, loss = 0.5366580486297607\n",
      "epoch = 9, i = 300, loss = 0.45132943987846375\n",
      "epoch = 9, i = 400, loss = 0.5376684665679932\n",
      "epoch = 9, i = 500, loss = 0.9212081432342529\n",
      "epoch = 9, i = 600, loss = 0.4985387921333313\n",
      "epoch = 9, i = 700, loss = 0.2654397785663605\n",
      "epoch = 9, i = 800, loss = 1.150120496749878\n",
      "epoch = 9, i = 900, loss = 0.44342440366744995\n",
      "epoch = 9, i = 1000, loss = 0.6016779541969299\n",
      "epoch = 9, i = 1100, loss = 0.7659499645233154\n",
      "epoch = 9, i = 1200, loss = 0.5102328062057495\n",
      "epoch = 9, i = 1300, loss = 0.6641837954521179\n",
      "evaluating model on dev and test...\n",
      "dev_acc: 0.47911256551742554, dev_rmse: 2.5959513187408447\n",
      "test_acc: 0.490339994430542, test_rmse: 2.3581349849700928\n",
      "epoch = 10, i = 0, loss = 0.9485877156257629\n",
      "epoch = 10, i = 100, loss = 0.4240656793117523\n",
      "epoch = 10, i = 200, loss = 0.7539646625518799\n",
      "epoch = 10, i = 300, loss = 0.43598222732543945\n",
      "epoch = 10, i = 400, loss = 0.5969750285148621\n",
      "epoch = 10, i = 500, loss = 0.6358165144920349\n"
     ]
    },
    {
     "name": "stdout",
     "output_type": "stream",
     "text": [
      "epoch = 10, i = 600, loss = 0.4486617147922516\n",
      "epoch = 10, i = 700, loss = 0.4893093705177307\n",
      "epoch = 10, i = 800, loss = 0.8087934851646423\n",
      "epoch = 10, i = 900, loss = 0.6663355827331543\n",
      "epoch = 10, i = 1000, loss = 0.38856399059295654\n",
      "epoch = 10, i = 1100, loss = 0.6736136674880981\n",
      "epoch = 10, i = 1200, loss = 0.8147845268249512\n",
      "epoch = 10, i = 1300, loss = 0.7092846632003784\n",
      "evaluating model on dev and test...\n",
      "dev_acc: 0.473275363445282, dev_rmse: 2.5685806274414062\n",
      "test_acc: 0.4786800146102905, test_rmse: 2.3469128608703613\n",
      "epoch = 11, i = 0, loss = 0.5136302709579468\n",
      "epoch = 11, i = 100, loss = 0.6258996725082397\n",
      "epoch = 11, i = 200, loss = 0.5074462294578552\n",
      "epoch = 11, i = 300, loss = 0.8129042983055115\n",
      "epoch = 11, i = 400, loss = 0.5542230606079102\n",
      "epoch = 11, i = 500, loss = 0.5161349773406982\n",
      "epoch = 11, i = 600, loss = 0.5896819233894348\n",
      "epoch = 11, i = 700, loss = 0.6863290667533875\n",
      "epoch = 11, i = 800, loss = 0.5083870887756348\n",
      "epoch = 11, i = 900, loss = 0.3265340328216553\n",
      "epoch = 11, i = 1000, loss = 0.7775629162788391\n",
      "epoch = 11, i = 1100, loss = 0.7597150802612305\n",
      "epoch = 11, i = 1200, loss = 0.49520641565322876\n",
      "epoch = 11, i = 1300, loss = 0.44222038984298706\n",
      "evaluating model on dev and test...\n",
      "dev_acc: 0.4771198034286499, dev_rmse: 2.5524861812591553\n",
      "test_acc: 0.47642001509666443, test_rmse: 2.3526580333709717\n",
      "epoch = 12, i = 0, loss = 0.3910914957523346\n",
      "epoch = 12, i = 100, loss = 0.33726972341537476\n",
      "epoch = 12, i = 200, loss = 0.5295529365539551\n",
      "epoch = 12, i = 300, loss = 0.4419896602630615\n",
      "epoch = 12, i = 400, loss = 0.3294357657432556\n",
      "epoch = 12, i = 500, loss = 0.8175026178359985\n",
      "epoch = 12, i = 600, loss = 0.5169392228126526\n",
      "epoch = 12, i = 700, loss = 0.37090879678726196\n",
      "epoch = 12, i = 800, loss = 0.4401392340660095\n",
      "epoch = 12, i = 900, loss = 0.657434344291687\n",
      "epoch = 12, i = 1000, loss = 0.47396910190582275\n",
      "epoch = 12, i = 1100, loss = 0.6415238380432129\n",
      "epoch = 12, i = 1200, loss = 0.49534136056900024\n",
      "epoch = 12, i = 1300, loss = 0.5604371428489685\n",
      "evaluating model on dev and test...\n",
      "dev_acc: 0.482234388589859, dev_rmse: 2.542769432067871\n",
      "test_acc: 0.4944800138473511, test_rmse: 2.3373489379882812\n",
      "epoch = 13, i = 0, loss = 0.6540343761444092\n",
      "epoch = 13, i = 100, loss = 0.5504652261734009\n",
      "epoch = 13, i = 200, loss = 0.613745391368866\n",
      "epoch = 13, i = 300, loss = 0.48012328147888184\n",
      "epoch = 13, i = 400, loss = 0.5549217462539673\n",
      "epoch = 13, i = 500, loss = 0.7506428956985474\n",
      "epoch = 13, i = 600, loss = 0.6042653322219849\n",
      "epoch = 13, i = 700, loss = 0.6180323362350464\n",
      "epoch = 13, i = 800, loss = 0.4621243178844452\n",
      "epoch = 13, i = 900, loss = 0.29211950302124023\n",
      "epoch = 13, i = 1000, loss = 0.6967971324920654\n",
      "epoch = 13, i = 1100, loss = 0.5880112648010254\n",
      "epoch = 13, i = 1200, loss = 0.7064930200576782\n",
      "epoch = 13, i = 1300, loss = 0.3936261534690857\n",
      "evaluating model on dev and test...\n",
      "dev_acc: 0.4788077175617218, dev_rmse: 2.534341335296631\n",
      "test_acc: 0.48833999037742615, test_rmse: 2.3233165740966797\n",
      "epoch = 14, i = 0, loss = 0.6755526065826416\n",
      "epoch = 14, i = 100, loss = 0.33443135023117065\n",
      "epoch = 14, i = 200, loss = 0.36527568101882935\n",
      "epoch = 14, i = 300, loss = 1.0132145881652832\n",
      "epoch = 14, i = 400, loss = 0.5340710878372192\n",
      "epoch = 14, i = 500, loss = 0.7321001887321472\n",
      "epoch = 14, i = 600, loss = 0.8975104093551636\n",
      "epoch = 14, i = 700, loss = 0.5202504396438599\n",
      "epoch = 14, i = 800, loss = 1.0374795198440552\n",
      "epoch = 14, i = 900, loss = 0.8503618836402893\n",
      "epoch = 14, i = 1000, loss = 0.26997876167297363\n",
      "epoch = 14, i = 1100, loss = 0.42291390895843506\n",
      "epoch = 14, i = 1200, loss = 0.549490213394165\n",
      "epoch = 14, i = 1300, loss = 0.4087107479572296\n",
      "evaluating model on dev and test...\n",
      "dev_acc: 0.47907304763793945, dev_rmse: 2.5677783489227295\n",
      "test_acc: 0.5010799765586853, test_rmse: 2.3345234394073486\n",
      "epoch = 15, i = 0, loss = 0.3381015658378601\n",
      "epoch = 15, i = 100, loss = 0.47336000204086304\n",
      "epoch = 15, i = 200, loss = 0.5756043195724487\n",
      "epoch = 15, i = 300, loss = 0.3944014012813568\n",
      "epoch = 15, i = 400, loss = 0.6456435918807983\n",
      "epoch = 15, i = 500, loss = 0.6376544833183289\n",
      "epoch = 15, i = 600, loss = 0.38120079040527344\n",
      "epoch = 15, i = 700, loss = 0.39884161949157715\n",
      "epoch = 15, i = 800, loss = 0.3604346215724945\n",
      "epoch = 15, i = 900, loss = 0.355624258518219\n",
      "epoch = 15, i = 1000, loss = 0.4303146004676819\n",
      "epoch = 15, i = 1100, loss = 0.49465665221214294\n",
      "epoch = 15, i = 1200, loss = 0.610739529132843\n",
      "epoch = 15, i = 1300, loss = 0.4250361919403076\n",
      "evaluating model on dev and test...\n",
      "dev_acc: 0.4612114727497101, dev_rmse: 2.5253374576568604\n",
      "test_acc: 0.4729999899864197, test_rmse: 2.3174986839294434\n",
      "epoch = 16, i = 0, loss = 0.28534242510795593\n",
      "epoch = 16, i = 100, loss = 0.6168354153633118\n",
      "epoch = 16, i = 200, loss = 0.43274885416030884\n",
      "epoch = 16, i = 300, loss = 0.38376590609550476\n",
      "epoch = 16, i = 400, loss = 0.527509868144989\n",
      "epoch = 16, i = 500, loss = 0.45143264532089233\n",
      "epoch = 16, i = 600, loss = 0.3917695879936218\n",
      "epoch = 16, i = 700, loss = 0.5136957168579102\n",
      "epoch = 16, i = 800, loss = 0.3321128487586975\n",
      "epoch = 16, i = 900, loss = 0.35770952701568604\n",
      "epoch = 16, i = 1000, loss = 0.37515610456466675\n",
      "epoch = 16, i = 1100, loss = 0.36942195892333984\n",
      "epoch = 16, i = 1200, loss = 0.41256609559059143\n",
      "epoch = 16, i = 1300, loss = 0.7216428518295288\n",
      "evaluating model on dev and test...\n",
      "dev_acc: 0.48063114285469055, dev_rmse: 2.539537191390991\n",
      "test_acc: 0.48642000555992126, test_rmse: 2.3322949409484863\n",
      "epoch = 17, i = 0, loss = 0.1989438235759735\n",
      "epoch = 17, i = 100, loss = 0.37077924609184265\n",
      "epoch = 17, i = 200, loss = 0.548552393913269\n",
      "epoch = 17, i = 300, loss = 0.32453879714012146\n",
      "epoch = 17, i = 400, loss = 0.37269145250320435\n",
      "epoch = 17, i = 500, loss = 0.49430444836616516\n",
      "epoch = 17, i = 600, loss = 0.42291736602783203\n",
      "epoch = 17, i = 700, loss = 0.4055926203727722\n",
      "epoch = 17, i = 800, loss = 0.6607651710510254\n",
      "epoch = 17, i = 900, loss = 0.3112538456916809\n",
      "epoch = 17, i = 1000, loss = 0.3921870291233063\n",
      "epoch = 17, i = 1100, loss = 0.4733957052230835\n",
      "epoch = 17, i = 1200, loss = 0.3893886208534241\n",
      "epoch = 17, i = 1300, loss = 0.5213131308555603\n",
      "evaluating model on dev and test...\n",
      "dev_acc: 0.4829513430595398, dev_rmse: 2.543346643447876\n",
      "test_acc: 0.5041000247001648, test_rmse: 2.3136982917785645\n",
      "epoch = 18, i = 0, loss = 0.36615651845932007\n",
      "epoch = 18, i = 100, loss = 0.4917939305305481\n",
      "epoch = 18, i = 200, loss = 0.30025339126586914\n",
      "epoch = 18, i = 300, loss = 0.5090234279632568\n",
      "epoch = 18, i = 400, loss = 0.3057374060153961\n",
      "epoch = 18, i = 500, loss = 0.467905193567276\n",
      "epoch = 18, i = 600, loss = 0.31017005443573\n",
      "epoch = 18, i = 700, loss = 0.35623863339424133\n",
      "epoch = 18, i = 800, loss = 0.5136244297027588\n",
      "epoch = 18, i = 900, loss = 0.2820129990577698\n",
      "epoch = 18, i = 1000, loss = 0.5056727528572083\n",
      "epoch = 18, i = 1100, loss = 0.38559073209762573\n",
      "epoch = 18, i = 1200, loss = 0.5067494511604309\n",
      "epoch = 18, i = 1300, loss = 0.23265519738197327\n",
      "evaluating model on dev and test...\n",
      "dev_acc: 0.4571525454521179, dev_rmse: 2.53709077835083\n",
      "test_acc: 0.45956000685691833, test_rmse: 2.32684326171875\n",
      "epoch = 19, i = 0, loss = 0.4580419361591339\n",
      "epoch = 19, i = 100, loss = 0.6830368041992188\n",
      "epoch = 19, i = 200, loss = 0.6702297925949097\n",
      "epoch = 19, i = 300, loss = 0.3448217809200287\n",
      "epoch = 19, i = 400, loss = 0.5003037452697754\n",
      "epoch = 19, i = 500, loss = 0.5249284505844116\n",
      "epoch = 19, i = 600, loss = 0.5032473206520081\n",
      "epoch = 19, i = 700, loss = 0.46184176206588745\n",
      "epoch = 19, i = 800, loss = 0.5465124845504761\n",
      "epoch = 19, i = 900, loss = 0.2270112931728363\n",
      "epoch = 19, i = 1000, loss = 0.2748583257198334\n",
      "epoch = 19, i = 1100, loss = 0.5165499448776245\n",
      "epoch = 19, i = 1200, loss = 0.43792837858200073\n",
      "epoch = 19, i = 1300, loss = 0.5342369079589844\n",
      "evaluating model on dev and test...\n",
      "dev_acc: 0.4835158586502075, dev_rmse: 2.512709140777588\n",
      "test_acc: 0.49654000997543335, test_rmse: 2.3054285049438477\n"
     ]
    }
   ],
   "source": [
    "for epoch in range(20):\n",
    "    for i, (v_emb, b, q, c, _) in enumerate(hmqa_train_loader):\n",
    "        v_emb = Variable(v_emb)\n",
    "        q = Variable(q)\n",
    "        c = Variable(c).float().view(-1)\n",
    "        \n",
    "        if USE_CUDA:\n",
    "            v_emb = v_emb.cuda()\n",
    "            q = q.cuda()\n",
    "            c = c.cuda()\n",
    "\n",
    "        pred = model(v_emb, q)\n",
    "        loss = F.smooth_l1_loss(pred, c)\n",
    "        \n",
    "        if i % 100 == 0:\n",
    "            print(\"epoch = {}, i = {}, loss = {}\".format(\n",
    "                epoch, i, loss.item()))\n",
    "        \n",
    "        opt.zero_grad()\n",
    "        loss.backward()\n",
    "        torch.nn.utils.clip_grad_norm(model.parameters(), 0.25)\n",
    "        opt.step()\n",
    "    \n",
    "    print(\"evaluating model on dev and test...\")\n",
    "\n",
    "    model.eval()\n",
    "    dev_acc, dev_rmse = evaluate(model, hmqa_dev_loader)\n",
    "    print(\"dev_acc: {}, dev_rmse: {}\".format(dev_acc, dev_rmse))\n",
    "    test_acc, test_rmse = evaluate(model, hmqa_test_loader)\n",
    "    print(\"test_acc: {}, test_rmse: {}\".format(test_acc, test_rmse))\n",
    "    model.train()\n",
    "    \n",
    "    test_accs.append(test_acc)\n",
    "    test_rmses.append(test_rmse)\n",
    "    dev_accs.append(dev_acc)\n",
    "    dev_rmses.append(dev_rmse)\n",
    "        "
   ]
  },
  {
   "cell_type": "code",
   "execution_count": 73,
   "metadata": {
    "scrolled": true
   },
   "outputs": [
    {
     "data": {
      "text/plain": [
       "[(tensor(0.4835), tensor(0.4965), tensor(2.3054)),\n",
       " (tensor(0.4830), tensor(0.5041), tensor(2.3137)),\n",
       " (tensor(0.4822), tensor(0.4945), tensor(2.3373)),\n",
       " (tensor(0.4806), tensor(0.4864), tensor(2.3323)),\n",
       " (tensor(0.4791), tensor(0.4903), tensor(2.3581)),\n",
       " (tensor(0.4791), tensor(0.5011), tensor(2.3345)),\n",
       " (tensor(0.4788), tensor(0.4883), tensor(2.3233)),\n",
       " (tensor(0.4771), tensor(0.4764), tensor(2.3527)),\n",
       " (tensor(0.4733), tensor(0.4787), tensor(2.3469)),\n",
       " (tensor(0.4731), tensor(0.4937), tensor(2.3661)),\n",
       " (tensor(0.4718), tensor(0.4808), tensor(2.4389)),\n",
       " (tensor(0.4649), tensor(0.4721), tensor(2.4418)),\n",
       " (tensor(0.4612), tensor(0.4730), tensor(2.3175)),\n",
       " (tensor(0.4581), tensor(0.4670), tensor(2.4323)),\n",
       " (tensor(0.4572), tensor(0.4596), tensor(2.3268)),\n",
       " (tensor(0.4526), tensor(0.4577), tensor(2.3845)),\n",
       " (tensor(0.4525), tensor(0.4663), tensor(2.4992)),\n",
       " (tensor(0.4399), tensor(0.4389), tensor(2.5628)),\n",
       " (tensor(0.4387), tensor(0.4358), tensor(2.6740)),\n",
       " (tensor(0.4111), tensor(0.4033), tensor(2.6869))]"
      ]
     },
     "execution_count": 73,
     "metadata": {},
     "output_type": "execute_result"
    }
   ],
   "source": [
    "top_dev_accs = sorted(zip(dev_accs, test_accs, test_rmses), reverse=True)\n",
    "top_dev_accs"
   ]
  },
  {
   "cell_type": "code",
   "execution_count": 74,
   "metadata": {},
   "outputs": [
    {
     "name": "stdout",
     "output_type": "stream",
     "text": [
      "The best dev accuracy is 0.4835158586502075. The corresponding test accuracy and test RMSE are 0.49654000997543335 and 2.3054285049438477 respectively\n"
     ]
    }
   ],
   "source": [
    "best_dev_acc, corr_test_acc, corr_test_rmse = top_dev_accs[0]\n",
    "print(\"The best dev accuracy is {}. The corresponding test accuracy and test RMSE are {} and {} respectively\".format(\n",
    "    best_dev_acc, corr_test_acc, corr_test_rmse\n",
    "))"
   ]
  },
  {
   "cell_type": "code",
   "execution_count": null,
   "metadata": {},
   "outputs": [],
   "source": []
  }
 ],
 "metadata": {
  "kernelspec": {
   "display_name": "Python 3",
   "language": "python",
   "name": "python3"
  },
  "language_info": {
   "codemirror_mode": {
    "name": "ipython",
    "version": 3
   },
   "file_extension": ".py",
   "mimetype": "text/x-python",
   "name": "python",
   "nbconvert_exporter": "python",
   "pygments_lexer": "ipython3",
   "version": "3.6.5"
  }
 },
 "nbformat": 4,
 "nbformat_minor": 2
}
