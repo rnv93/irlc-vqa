{
 "cells": [
  {
   "cell_type": "code",
   "execution_count": 1,
   "metadata": {},
   "outputs": [],
   "source": [
    "%load_ext autoreload\n",
    "%autoreload 2"
   ]
  },
  {
   "cell_type": "code",
   "execution_count": 2,
   "metadata": {},
   "outputs": [],
   "source": [
    "import os\n",
    "os.environ[\"CUDA_VISIBLE_DEVICES\"] = \"0\"\n",
    "os.environ[\"CUDA_LAUNCH_BLOCKING\"] = \"1\""
   ]
  },
  {
   "cell_type": "code",
   "execution_count": 3,
   "metadata": {},
   "outputs": [
    {
     "name": "stderr",
     "output_type": "stream",
     "text": [
      "/home/sanyam/miniconda3/envs/py2t3/lib/python2.7/site-packages/h5py/__init__.py:36: FutureWarning: Conversion of the second argument of issubdtype from `float` to `np.floating` is deprecated. In future, it will be treated as `np.float64 == np.dtype(float).type`.\n",
      "  from ._conv import register_converters as _register_converters\n"
     ]
    }
   ],
   "source": [
    "import torch\n",
    "from torch.autograd import Variable\n",
    "\n",
    "from dataset import Dictionary, HMQAFeatureDataset\n",
    "from model import SoftCount\n",
    "from config import *\n",
    "from datetime import datetime, timedelta\n",
    "\n",
    "import h5py\n",
    "import numpy as np\n",
    "import cPickle as pkl\n",
    "import json\n",
    "import torch.nn.functional as F"
   ]
  },
  {
   "cell_type": "code",
   "execution_count": 4,
   "metadata": {},
   "outputs": [
    {
     "name": "stdout",
     "output_type": "stream",
     "text": [
      "loading dictionary from data/dictionary.pkl\n"
     ]
    }
   ],
   "source": [
    "dictionary = Dictionary.load_from_file('data/dictionary.pkl')"
   ]
  },
  {
   "cell_type": "code",
   "execution_count": 5,
   "metadata": {},
   "outputs": [
    {
     "name": "stdout",
     "output_type": "stream",
     "text": [
      "loading features from train hdf5 file\n",
      "CPU times: user 3.92 s, sys: 1min 32s, total: 1min 36s\n",
      "Wall time: 3min 1s\n"
     ]
    }
   ],
   "source": [
    "%%time\n",
    "print('loading features from train hdf5 file')\n",
    "train_h5_loc = './data/train36.hdf5'\n",
    "with h5py.File(train_h5_loc, 'r') as hf:\n",
    "    train_image_features = np.array(hf.get('image_features'))\n",
    "    train_spatials_features = np.array(hf.get('spatial_features'))"
   ]
  },
  {
   "cell_type": "code",
   "execution_count": 6,
   "metadata": {},
   "outputs": [],
   "source": [
    "from dataset import HMQAFeatureDataset\n",
    "\n",
    "hmqa_train_dset = HMQAFeatureDataset(\n",
    "    img_id2hqma_idx = pkl.load(open(\"./data/train36_imgid2idx.pkl\", \"rb\")),\n",
    "    image_features = train_image_features, \n",
    "    spatial_features = train_spatials_features, \n",
    "    qid2count = json.load(open(\"./data/how_many_qa/qid2count.json\", \"rb\")), \n",
    "    qid2count2score = json.load(open(\"./data/how_many_qa/qid2count2score.json\", \"rb\")), \n",
    "    name=\"train\", \n",
    "    dictionary=dictionary\n",
    ")\n",
    "del HMQAFeatureDataset"
   ]
  },
  {
   "cell_type": "code",
   "execution_count": 7,
   "metadata": {},
   "outputs": [
    {
     "data": {
      "text/plain": [
       "83642"
      ]
     },
     "execution_count": 7,
     "metadata": {},
     "output_type": "execute_result"
    }
   ],
   "source": [
    "len(hmqa_train_dset)"
   ]
  },
  {
   "cell_type": "code",
   "execution_count": 9,
   "metadata": {},
   "outputs": [
    {
     "data": {
      "text/plain": [
       "45546"
      ]
     },
     "execution_count": 9,
     "metadata": {},
     "output_type": "execute_result"
    }
   ],
   "source": [
    "len(set([x[\"image_id\"] for x in hmqa_train_dset.entries]))"
   ]
  },
  {
   "cell_type": "code",
   "execution_count": 5,
   "metadata": {},
   "outputs": [
    {
     "name": "stdout",
     "output_type": "stream",
     "text": [
      "loading features from val hdf5 file\n",
      "CPU times: user 1.63 s, sys: 26.6 s, total: 28.2 s\n",
      "Wall time: 28.2 s\n"
     ]
    }
   ],
   "source": [
    "%%time\n",
    "print('loading features from val hdf5 file')\n",
    "val_h5_loc = './data/val36.hdf5'\n",
    "with h5py.File(val_h5_loc, 'r') as hf:\n",
    "    val_image_features = np.array(hf.get('image_features'))\n",
    "    val_spatials_features = np.array(hf.get('spatial_features'))"
   ]
  },
  {
   "cell_type": "code",
   "execution_count": 6,
   "metadata": {},
   "outputs": [],
   "source": [
    "# len(train_image_features)\n",
    "\n",
    "from dataset import HMQAFeatureDataset\n",
    "\n",
    "hmqa_dev_dset = HMQAFeatureDataset(\n",
    "    img_id2hqma_idx = pkl.load(open(\"./data/val36_imgid2idx.pkl\", \"rb\")),\n",
    "    image_features = val_image_features, \n",
    "    spatial_features = val_spatials_features, \n",
    "    qid2count = json.load(open(\"./data/how_many_qa/qid2count.json\", \"rb\")), \n",
    "    qid2count2score = json.load(open(\"./data/how_many_qa/qid2count2score.json\", \"rb\")), \n",
    "    name=\"dev\", \n",
    "    dictionary=dictionary\n",
    ")\n",
    "\n",
    "hmqa_test_dset = HMQAFeatureDataset(\n",
    "    img_id2hqma_idx = pkl.load(open(\"./data/val36_imgid2idx.pkl\", \"rb\")),\n",
    "    image_features = val_image_features, \n",
    "    spatial_features = val_spatials_features, \n",
    "    qid2count = json.load(open(\"./data/how_many_qa/qid2count.json\", \"rb\")), \n",
    "    qid2count2score = json.load(open(\"./data/how_many_qa/qid2count2score.json\", \"rb\")), \n",
    "    name=\"test\", \n",
    "    dictionary=dictionary\n",
    ")\n",
    "del HMQAFeatureDataset"
   ]
  },
  {
   "cell_type": "code",
   "execution_count": 7,
   "metadata": {},
   "outputs": [
    {
     "data": {
      "text/plain": [
       "(17714, 5000)"
      ]
     },
     "execution_count": 7,
     "metadata": {},
     "output_type": "execute_result"
    }
   ],
   "source": [
    "len(hmqa_dev_dset), len(hmqa_test_dset)"
   ]
  },
  {
   "cell_type": "code",
   "execution_count": 8,
   "metadata": {},
   "outputs": [],
   "source": [
    "from torch.utils.data import DataLoader\n",
    "\n",
    "# hmqa_train_loader = DataLoader(hmqa_train_dset, 64, shuffle=True, num_workers=1)\n",
    "hmqa_dev_loader = DataLoader(hmqa_dev_dset, 64, shuffle=True, num_workers=1)\n",
    "hmqa_test_loader = DataLoader(hmqa_test_dset, 64, shuffle=True, num_workers=1)"
   ]
  },
  {
   "cell_type": "code",
   "execution_count": 13,
   "metadata": {},
   "outputs": [],
   "source": [
    "def evaluate(model, hmqa_loader):\n",
    "    \n",
    "    all_acc = []\n",
    "    all_se = []\n",
    "    for i, (v_emb, b, q, c, c2s) in enumerate(hmqa_loader):\n",
    "        v_emb = Variable(v_emb)\n",
    "        b = Variable(b)\n",
    "        q = Variable(q)\n",
    "        c = Variable(c).float()\n",
    "        \n",
    "        if USE_CUDA:\n",
    "            v_emb = v_emb.cuda()\n",
    "            b = b.cuda()\n",
    "            q = q.cuda()\n",
    "            c = c.cuda()\n",
    "        \n",
    "        kappa_0, rho, batch_eps = model.compute_vars(v_emb, b, q)\n",
    "        count, greedy_count, P, A, rho = model.take_mc_samples(kappa_0, rho, batch_eps, 1)\n",
    "        \n",
    "#         pred = model(v_emb, q)\n",
    "        \n",
    "        nearest_pred = (greedy_count + 0.5).long().clamp(0, 20)\n",
    "        for one_c, one_c2s, one_pred in zip(c, c2s, nearest_pred):\n",
    "            one_c = one_c.cpu().data\n",
    "            one_pred = one_pred.cpu().data\n",
    "            \n",
    "            all_se.append((one_c - one_pred.float()) ** 2)\n",
    "            all_acc.append(one_c2s[one_pred])\n",
    "    \n",
    "    acc = torch.stack(all_acc).mean()\n",
    "    rmse = torch.stack(all_se).mean() ** 0.5\n",
    "    \n",
    "    return acc, rmse"
   ]
  },
  {
   "cell_type": "code",
   "execution_count": 14,
   "metadata": {},
   "outputs": [],
   "source": [
    "def isnan(x):\n",
    "    check = (x != x)\n",
    "    check = check.float().sum().data[0]\n",
    "    return check > 0"
   ]
  },
  {
   "cell_type": "code",
   "execution_count": 30,
   "metadata": {},
   "outputs": [
    {
     "name": "stdout",
     "output_type": "stream",
     "text": [
      "initialising with glove embeddings\n",
      "done.\n"
     ]
    }
   ],
   "source": [
    "from model import IRLC\n",
    "model = IRLC()\n",
    "del IRLC"
   ]
  },
  {
   "cell_type": "code",
   "execution_count": 31,
   "metadata": {},
   "outputs": [],
   "source": [
    "# USE_CUDA = False"
   ]
  },
  {
   "cell_type": "code",
   "execution_count": 32,
   "metadata": {},
   "outputs": [],
   "source": [
    "if USE_CUDA:\n",
    "    model.cuda()\n",
    "# model"
   ]
  },
  {
   "cell_type": "code",
   "execution_count": 33,
   "metadata": {},
   "outputs": [
    {
     "data": {
      "text/plain": [
       "(0.14578000067472457, 6.577051010901466)"
      ]
     },
     "execution_count": 33,
     "metadata": {},
     "output_type": "execute_result"
    }
   ],
   "source": [
    "test_acc, test_rmse = evaluate(model, hmqa_test_loader)\n",
    "test_acc, test_rmse"
   ]
  },
  {
   "cell_type": "code",
   "execution_count": 34,
   "metadata": {},
   "outputs": [],
   "source": [
    "opt = torch.optim.Adam(model.parameters(), lr=3e-6)"
   ]
  },
  {
   "cell_type": "code",
   "execution_count": 35,
   "metadata": {
    "scrolled": true
   },
   "outputs": [
    {
     "name": "stdout",
     "output_type": "stream",
     "text": [
      "epoch = 0, i = 0, loss = -3087.06494141\n",
      "epoch = 0, i = 100, loss = -70.2504196167\n",
      "epoch = 0, i = 200, loss = -98.9064941406\n",
      "evaluating model on train, dev and test...\n",
      "test_acc: 0.082160000515, test_rmse: 12.9495019209\n",
      "epoch = 1, i = 0, loss = -48.8456344604\n",
      "epoch = 1, i = 100, loss = -624.548095703\n",
      "epoch = 1, i = 200, loss = -576.245300293\n",
      "evaluating model on train, dev and test...\n",
      "test_acc: 0.077160000515, test_rmse: 13.2448329548\n"
     ]
    }
   ],
   "source": [
    "for epoch in range(2):\n",
    "    for i, (v_emb, b, q, c, _) in enumerate(hmqa_dev_loader):\n",
    "        v_emb = Variable(v_emb)\n",
    "        b = Variable(b)\n",
    "        q = Variable(q)\n",
    "        c = Variable(c).view(-1).float()\n",
    "        \n",
    "        if USE_CUDA:\n",
    "            v_emb = v_emb.cuda()\n",
    "            q = q.cuda()\n",
    "            c = c.cuda()\n",
    "            b = b.cuda()\n",
    "\n",
    "#         count, greedy_count, P, A, rho = model(v_emb, b, q)\n",
    "        \n",
    "        kappa_0, rho, batch_eps = model.compute_vars(v_emb, b, q)\n",
    "              \n",
    "        if isnan(kappa_0) or isnan(rho) or isnan(batch_eps):\n",
    "            raise Exception(\"there are nans here\")\n",
    "        count, greedy_count, P, A, rho = model.take_mc_samples(kappa_0, rho, batch_eps, 1)\n",
    "        \n",
    "        loss = model.get_loss(c, count, greedy_count, P, A, rho)\n",
    "        \n",
    "        if i % 100 == 0:\n",
    "            print(\"epoch = {}, i = {}, loss = {}\".format(epoch, i, loss.data[0]))\n",
    "        \n",
    "        opt.zero_grad()\n",
    "        loss.backward()\n",
    "        torch.nn.utils.clip_grad_norm(model.parameters(), 0.25)\n",
    "        opt.step()\n",
    "    \n",
    "    \n",
    "    print(\"evaluating model on train, dev and test...\")\n",
    "    \n",
    "#     train_acc, train_rmse = evaluate(model, hmqa_train_loader)\n",
    "#     print(\"train_acc: {}, train_rmse: {}\".format(train_acc, train_rmse))\n",
    "    \n",
    "    model.eval()\n",
    "#     dev_acc, dev_rmse = evaluate(model, hmqa_dev_loader)\n",
    "#     print(\"dev_acc: {}, dev_rmse: {}\".format(dev_acc, dev_rmse))\n",
    "    test_acc, test_rmse = evaluate(model, hmqa_test_loader)\n",
    "    print(\"test_acc: {}, test_rmse: {}\".format(test_acc, test_rmse))\n",
    "    model.train()\n",
    "        "
   ]
  },
  {
   "cell_type": "code",
   "execution_count": null,
   "metadata": {},
   "outputs": [],
   "source": []
  },
  {
   "cell_type": "code",
   "execution_count": 36,
   "metadata": {
    "scrolled": true
   },
   "outputs": [
    {
     "data": {
      "text/plain": [
       "Variable containing:\n",
       "\n",
       "Columns 0 to 12 \n",
       "   36    36    36    36    35    36    36    36    36     4    36    36    36\n",
       "   36    36    36    36    36     0    36    36     0    36     0     0     0\n",
       "    1     1     0     5     1     6     1     0     5     2     4     2     1\n",
       "\n",
       "Columns 13 to 25 \n",
       "   36    36    36    36    36    36    36    36     4    36     1    36    36\n",
       "   36     0    36    36     0    36    36    36    36    36     0    36    36\n",
       "    3     1     2     3     2     4     3     2     3     3     1     2     3\n",
       "\n",
       "Columns 26 to 38 \n",
       "   36    36    36    36    36    36    36    36    36     4    36    36    36\n",
       "   36    36     0     0    36     0    36    36     0    36    36     0    36\n",
       "    2     3     0     2     1     6     3     1     1     3     3     1     3\n",
       "\n",
       "Columns 39 to 49 \n",
       "   36    36    10    36    36    36    36     2     1    34    32\n",
       "   36    36    36    36    36    36    36    36    36    36    36\n",
       "    2     3     1     3     3     6    18     2     6     3     1\n",
       "[torch.cuda.FloatTensor of size 3x50 (GPU 0)]"
      ]
     },
     "execution_count": 36,
     "metadata": {},
     "output_type": "execute_result"
    }
   ],
   "source": [
    "torch.stack((count.float(), greedy_count.float(), c))"
   ]
  },
  {
   "cell_type": "code",
   "execution_count": null,
   "metadata": {},
   "outputs": [],
   "source": []
  },
  {
   "cell_type": "code",
   "execution_count": null,
   "metadata": {},
   "outputs": [],
   "source": []
  }
 ],
 "metadata": {
  "kernelspec": {
   "display_name": "Python 2",
   "language": "python",
   "name": "python2"
  },
  "language_info": {
   "codemirror_mode": {
    "name": "ipython",
    "version": 2
   },
   "file_extension": ".py",
   "mimetype": "text/x-python",
   "name": "python",
   "nbconvert_exporter": "python",
   "pygments_lexer": "ipython2",
   "version": "2.7.15"
  }
 },
 "nbformat": 4,
 "nbformat_minor": 2
}
